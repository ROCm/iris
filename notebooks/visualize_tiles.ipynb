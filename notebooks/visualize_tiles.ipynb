{
 "cells": [
  {
   "cell_type": "code",
   "execution_count": 5,
   "metadata": {},
   "outputs": [],
   "source": [
    "import json\n",
    "import pandas as pd\n",
    "import altair as alt"
   ]
  },
  {
   "cell_type": "code",
   "execution_count": 6,
   "metadata": {},
   "outputs": [],
   "source": [
    "# Load data from JSON file\n",
    "file_path = \"../stream-k/gemm_tiles_all_reduce_trace_rank0.json\"\n",
    "with open(file_path, 'r') as file:\n",
    "    data = json.load(file)\n",
    "\n",
    "# Prepare data for plotting\n",
    "all_timeline_data = []\n",
    "\n",
    "for tile in data:\n",
    "    tile_id = tile['tile_id']\n",
    "    categories = ['gemm', 'comm', 'poll', 'op']\n",
    "    \n",
    "    for category in categories:\n",
    "        all_timeline_data.append({\n",
    "            'Tile ID': str(tile_id),  # Convert to string for categorical sorting\n",
    "            'Category': category,\n",
    "            'Tile-Category': f\"Tile {tile_id} - {category}\",  # Unique row per category\n",
    "            'Start': tile[f'{category}_begin'],\n",
    "            'End': tile[f'{category}_end'],\n",
    "            'Duration': tile[f'{category}_end'] - tile[f'{category}_begin']\n",
    "        })\n",
    "\n",
    "# Convert to DataFrame\n",
    "df = pd.DataFrame(all_timeline_data)"
   ]
  },
  {
   "cell_type": "code",
   "execution_count": 7,
   "metadata": {},
   "outputs": [],
   "source": [
    "def plot_timeline(df):\n",
    "    # Estimate height per tile-category row\n",
    "    tile_category_count = df['Tile-Category'].nunique()\n",
    "    chart_height = max(400, tile_category_count * 15)\n",
    "\n",
    "    # Create Altair chart with distinct y-axis entries per tile-category\n",
    "    chart = alt.Chart(df).mark_bar().encode(\n",
    "        x=alt.X('Start:Q', title='Time', scale=alt.Scale(nice=True)),\n",
    "        x2='End:Q',\n",
    "        y=alt.Y('Tile-Category:N', title='Tile & Category', sort=[]),\n",
    "        color=alt.Color('Category:N', scale=alt.Scale(domain=['gemm', 'comm', 'poll', 'op'], range=['red', 'purple', 'green', 'blue'])),\n",
    "        tooltip=['Tile ID', 'Category', 'Start', 'End', 'Duration']\n",
    "    ).properties(\n",
    "        width=900,\n",
    "        height=chart_height\n",
    "    ).interactive()\n",
    "\n",
    "    # Enable scrolling\n",
    "    chart = chart.configure_view(\n",
    "        continuousHeight=400,\n",
    "        strokeWidth=0\n",
    "    )\n",
    "\n",
    "    # Show the chart\n",
    "    chart.show()\n",
    "\n",
    "\n"
   ]
  },
  {
   "cell_type": "code",
   "execution_count": null,
   "metadata": {},
   "outputs": [],
   "source": [
    "plot_timeline(df)"
   ]
  }
 ],
 "metadata": {
  "kernelspec": {
   "display_name": "base",
   "language": "python",
   "name": "python3"
  },
  "language_info": {
   "codemirror_mode": {
    "name": "ipython",
    "version": 3
   },
   "file_extension": ".py",
   "mimetype": "text/x-python",
   "name": "python",
   "nbconvert_exporter": "python",
   "pygments_lexer": "ipython3",
   "version": "3.9.17"
  }
 },
 "nbformat": 4,
 "nbformat_minor": 2
}
