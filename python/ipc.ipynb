{
 "cells": [
  {
   "cell_type": "code",
   "execution_count": 1,
   "metadata": {},
   "outputs": [],
   "source": [
    "from mpi_helpers import (\n",
    "    init_mpi,\n",
    "    mpi_allgather,\n",
    "    world_barrier,\n",
    ")\n",
    "from hip import (\n",
    "    set_device,\n",
    "    get_device,\n",
    "    count_devices,\n",
    "    malloc_fine_grained,\n",
    "    get_ipc_handle,\n",
    "    open_ipc_handle,\n",
    "    hip_try,\n",
    "    to_hip_c_byte_array_64\n",
    ")\n",
    "import numpy as np\n",
    "from mpi4py import MPI\n",
    "import ctypes"
   ]
  },
  {
   "cell_type": "code",
   "execution_count": 2,
   "metadata": {},
   "outputs": [
    {
     "name": "stdout",
     "output_type": "stream",
     "text": [
      "Rank 0 using device 0\n"
     ]
    }
   ],
   "source": [
    "comm, rank, world_size = init_mpi()\n",
    "num_gpus = count_devices()\n",
    "gpu_id = rank % num_gpus\n",
    "set_device(gpu_id)\n",
    "print(f\"Rank {rank} using device {gpu_id}\")\n",
    "world_barrier()"
   ]
  },
  {
   "cell_type": "code",
   "execution_count": 3,
   "metadata": {},
   "outputs": [],
   "source": [
    "bytes_count = 1 << 30  # 1GB\n",
    "heap_base = malloc_fine_grained(bytes_count)\n",
    "if heap_base.value is None:\n",
    "    raise RuntimeError(f\"Rank {rank}: Memory allocation failed.\")"
   ]
  },
  {
   "cell_type": "code",
   "execution_count": 4,
   "metadata": {},
   "outputs": [],
   "source": [
    "heap_bases = np.zeros(world_size, dtype=np.uint64)\n",
    "heap_bases[rank] = heap_base.value"
   ]
  },
  {
   "cell_type": "code",
   "execution_count": 5,
   "metadata": {},
   "outputs": [],
   "source": [
    "ipc_handles = np.zeros((world_size, 64), dtype=np.uint8)\n"
   ]
  },
  {
   "cell_type": "code",
   "execution_count": 6,
   "metadata": {},
   "outputs": [],
   "source": [
    "def to_hip_c_byte_array_64(ipc_handle_np):\n",
    "    if ipc_handle_np.dtype != np.uint8 or ipc_handle_np.size != 64:\n",
    "        raise ValueError(\"Input must be a 64-element NumPy array of type np.uint8\")\n",
    "    hip_c_byte_array = (ctypes.c_byte * 64).from_buffer_copy(ipc_handle_np)\n",
    "    return hip_c_byte_array"
   ]
  },
  {
   "cell_type": "code",
   "execution_count": 7,
   "metadata": {},
   "outputs": [],
   "source": [
    "ipc_handle = get_ipc_handle(heap_base)\n",
    "ipc_handle_np = np.frombuffer(ipc_handle, dtype=np.uint8)\n",
    "ipc_handles[rank] = ipc_handle_np\n",
    "\n",
    "def allgather(data):\n",
    "    thread_comm = MPI.COMM_WORLD\n",
    "    shmcomm = thread_comm.Split_type(MPI.COMM_TYPE_SHARED)\n",
    "    shm_size = shmcomm.Get_size()\n",
    "    rank = thread_comm.Get_rank()\n",
    "    data = np.asarray(data, dtype=np.uint8)\n",
    "    assert len(data.shape) == 1, \"Input data must be a 1D array.\"\n",
    "    recv_data = np.empty((shm_size, len(data)), dtype=data.dtype)\n",
    "    shmcomm.Allgather(sendbuf=data, recvbuf=recv_data)\n",
    "    shmcomm.Free()\n",
    "\n",
    "    return recv_data\n",
    "\n",
    "all_ipc_handles = allgather(ipc_handle_np)"
   ]
  },
  {
   "cell_type": "code",
   "execution_count": 8,
   "metadata": {},
   "outputs": [],
   "source": [
    "handle_back = to_hip_c_byte_array_64(all_ipc_handles[0])"
   ]
  },
  {
   "cell_type": "code",
   "execution_count": 9,
   "metadata": {},
   "outputs": [
    {
     "name": "stdout",
     "output_type": "stream",
     "text": [
      "Handles match!\n"
     ]
    }
   ],
   "source": [
    "def verify_ipc_handle(ipc_handle_original, ipc_handle_reconstructed):\n",
    "    # Convert original and reconstructed handles to bytes for comparison\n",
    "    original_bytes = bytes(ipc_handle_original)\n",
    "    reconstructed_bytes = bytes(ipc_handle_reconstructed)\n",
    "\n",
    "    # Compare the two byte arrays\n",
    "    if original_bytes == reconstructed_bytes:\n",
    "        print(\"Handles match!\")\n",
    "        return True\n",
    "    else:\n",
    "        print(\"Handles do NOT match!\")\n",
    "        print(f\"Original: {list(original_bytes)}\")\n",
    "        print(f\"Reconstructed: {list(reconstructed_bytes)}\")\n",
    "        return False\n",
    "\n",
    "# Example usage:\n",
    "is_valid = verify_ipc_handle(ipc_handle, handle_back)"
   ]
  },
  {
   "cell_type": "code",
   "execution_count": 10,
   "metadata": {},
   "outputs": [
    {
     "name": "stdout",
     "output_type": "stream",
     "text": [
      "ipc_handle: <hip.c_byte_Array_64 object at 0x7f2dab9371c0>\n",
      "handle_back: <hip.c_byte_Array_64 object at 0x7f2dabde6240>\n"
     ]
    }
   ],
   "source": [
    "print(f\"ipc_handle: {ipc_handle}\")\n",
    "print(f\"handle_back: {handle_back}\")\n",
    "ipc_handle_orig = ipc_handle"
   ]
  },
  {
   "cell_type": "code",
   "execution_count": 13,
   "metadata": {},
   "outputs": [
    {
     "name": "stdout",
     "output_type": "stream",
     "text": [
      "ipc_handle: <class 'hip.c_byte_Array_64'>\n",
      "ipc_handle: <class 'hip.c_byte_Array_64'>\n",
      " ctypes.byref(ptr): <class 'CArgObject'>\n"
     ]
    },
    {
     "ename": "RuntimeError",
     "evalue": "HIP error code 1: invalid argument",
     "output_type": "error",
     "traceback": [
      "\u001b[0;31m---------------------------------------------------------------------------\u001b[0m",
      "\u001b[0;31mRuntimeError\u001b[0m                              Traceback (most recent call last)",
      "Cell \u001b[0;32mIn[13], line 11\u001b[0m\n\u001b[1;32m      9\u001b[0m \u001b[38;5;28mprint\u001b[39m(\u001b[38;5;124mf\u001b[39m\u001b[38;5;124m\"\u001b[39m\u001b[38;5;124mipc_handle: \u001b[39m\u001b[38;5;132;01m{\u001b[39;00m\u001b[38;5;28mtype\u001b[39m(ipc_handle)\u001b[38;5;132;01m}\u001b[39;00m\u001b[38;5;124m\"\u001b[39m)\n\u001b[1;32m     10\u001b[0m \u001b[38;5;28mprint\u001b[39m(\u001b[38;5;124mf\u001b[39m\u001b[38;5;124m\"\u001b[39m\u001b[38;5;124m ctypes.byref(ptr): \u001b[39m\u001b[38;5;132;01m{\u001b[39;00m\u001b[38;5;28mtype\u001b[39m(ctypes\u001b[38;5;241m.\u001b[39mbyref(ptr))\u001b[38;5;132;01m}\u001b[39;00m\u001b[38;5;124m\"\u001b[39m)\n\u001b[0;32m---> 11\u001b[0m \u001b[43mhip_try\u001b[49m\u001b[43m(\u001b[49m\n\u001b[1;32m     12\u001b[0m \u001b[43m    \u001b[49m\u001b[43mhip_runtime\u001b[49m\u001b[38;5;241;43m.\u001b[39;49m\u001b[43mhipIpcOpenMemHandle\u001b[49m\u001b[43m(\u001b[49m\n\u001b[1;32m     13\u001b[0m \u001b[43m        \u001b[49m\u001b[43mctypes\u001b[49m\u001b[38;5;241;43m.\u001b[39;49m\u001b[43mbyref\u001b[49m\u001b[43m(\u001b[49m\u001b[43mptr\u001b[49m\u001b[43m)\u001b[49m\u001b[43m,\u001b[49m\n\u001b[1;32m     14\u001b[0m \u001b[43m        \u001b[49m\u001b[43mipc_handle\u001b[49m\n\u001b[1;32m     15\u001b[0m \u001b[43m    \u001b[49m\u001b[43m)\u001b[49m\n\u001b[1;32m     16\u001b[0m \u001b[43m)\u001b[49m\n",
      "File \u001b[0;32m/work1/amd/muhaawad/git/amd/pdp/fused_gemm/python/hip.py:12\u001b[0m, in \u001b[0;36mhip_try\u001b[0;34m(err)\u001b[0m\n\u001b[1;32m     10\u001b[0m hip_runtime\u001b[38;5;241m.\u001b[39mhipGetErrorString\u001b[38;5;241m.\u001b[39mrestype \u001b[38;5;241m=\u001b[39m ctypes\u001b[38;5;241m.\u001b[39mc_char_p\n\u001b[1;32m     11\u001b[0m error_string \u001b[38;5;241m=\u001b[39m hip_runtime\u001b[38;5;241m.\u001b[39mhipGetErrorString(ctypes\u001b[38;5;241m.\u001b[39mc_int(err))\u001b[38;5;241m.\u001b[39mdecode(\u001b[38;5;124m\"\u001b[39m\u001b[38;5;124mutf-8\u001b[39m\u001b[38;5;124m\"\u001b[39m)\n\u001b[0;32m---> 12\u001b[0m \u001b[38;5;28;01mraise\u001b[39;00m \u001b[38;5;167;01mRuntimeError\u001b[39;00m(\u001b[38;5;124mf\u001b[39m\u001b[38;5;124m\"\u001b[39m\u001b[38;5;124mHIP error code \u001b[39m\u001b[38;5;132;01m{\u001b[39;00merr\u001b[38;5;132;01m}\u001b[39;00m\u001b[38;5;124m: \u001b[39m\u001b[38;5;132;01m{\u001b[39;00merror_string\u001b[38;5;132;01m}\u001b[39;00m\u001b[38;5;124m\"\u001b[39m)\n",
      "\u001b[0;31mRuntimeError\u001b[0m: HIP error code 1: invalid argument"
     ]
    }
   ],
   "source": [
    "hip_runtime = ctypes.cdll.LoadLibrary(\"libamdhip64.so\")\n",
    "\n",
    "ptr = ctypes.c_void_p()\n",
    "\n",
    "print(f\"ipc_handle: {type(ipc_handle_orig)}\")\n",
    "# ipc_handle = to_hip_c_byte_array_64(ipc_handle_orig)\n",
    "ipc_handle = ipc_handle_orig\n",
    "hipIpcMemLazyEnablePeerAccess = 1\n",
    "print(f\"ipc_handle: {type(ipc_handle)}\")\n",
    "print(f\" ctypes.byref(ptr): {type(ctypes.byref(ptr))}\")\n",
    "hip_try(\n",
    "    hip_runtime.hipIpcOpenMemHandle(\n",
    "        ctypes.byref(ptr),\n",
    "        ipc_handle,\n",
    "        ctypes.c_uint(hipIpcMemLazyEnablePeerAccess),\n",
    "    )\n",
    ")"
   ]
  },
  {
   "cell_type": "code",
   "execution_count": null,
   "metadata": {},
   "outputs": [],
   "source": []
  }
 ],
 "metadata": {
  "kernelspec": {
   "display_name": "Python 3 (ipykernel)",
   "language": "python",
   "name": "python3"
  },
  "language_info": {
   "codemirror_mode": {
    "name": "ipython",
    "version": 3
   },
   "file_extension": ".py",
   "mimetype": "text/x-python",
   "name": "python",
   "nbconvert_exporter": "python",
   "pygments_lexer": "ipython3",
   "version": "3.10.16"
  }
 },
 "nbformat": 4,
 "nbformat_minor": 2
}
